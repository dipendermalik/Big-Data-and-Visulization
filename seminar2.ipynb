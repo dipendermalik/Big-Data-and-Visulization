{
  "cells": [
    {
      "cell_type": "markdown",
      "metadata": {
        "id": "bSas0sVpArav"
      },
      "source": [
        "## BUSN9165 -- Big Data Analytics and Visualisation <br> Seminar 2"
      ]
    },
    {
      "cell_type": "markdown",
      "metadata": {
        "id": "F22AjKSsAray"
      },
      "source": [
        "Author: Zhen Zhu <br> Email: z.zhu@kent.ac.uk"
      ]
    },
    {
      "cell_type": "markdown",
      "metadata": {
        "id": "YyGPqQU_Araz"
      },
      "source": [
        "## This is a markdown cell. "
      ]
    },
    {
      "cell_type": "code",
      "execution_count": null,
      "metadata": {
        "id": "rhpNIZHxAraz"
      },
      "outputs": [],
      "source": [
        "# This is a code cell. \n",
        "\n",
        "# You can make comments after hashtag, which will be ignored by the computer when executing the code but good\n",
        "# for us humans to read.\n",
        "\n",
        "# Explore the user interface of Jupyter notebook. \n",
        "# Where can you find the notebook on your computer?\n",
        "# Rename/copy/delete a notebook\n",
        "# Insert Cell below/above\n",
        "# Run a cell"
      ]
    },
    {
      "cell_type": "code",
      "execution_count": null,
      "metadata": {
        "id": "lP-sz1JfAra1"
      },
      "outputs": [],
      "source": [
        "# you can consider use \"playground mode\", which won't save any changes you make"
      ]
    },
    {
      "cell_type": "code",
      "execution_count": null,
      "metadata": {
        "id": "N71wCKWLAra1"
      },
      "outputs": [],
      "source": [
        "# set up the work environment by \"importing\" the packages needed. \n",
        "import numpy as np\n",
        "import matplotlib.pyplot as plt\n",
        "import pandas as pd\n",
        "import seaborn as sns\n",
        "\n",
        "# apply the default seaborn themes and styles\n",
        "sns.set()"
      ]
    },
    {
      "cell_type": "markdown",
      "metadata": {
        "id": "Ibgv5-YOAra2"
      },
      "source": [
        "## 0. Python as a programming language"
      ]
    },
    {
      "cell_type": "markdown",
      "metadata": {
        "id": "CIb5xGBMAra2"
      },
      "source": [
        "### 0.0 Data types"
      ]
    },
    {
      "cell_type": "code",
      "execution_count": null,
      "metadata": {
        "id": "aZYYBTU4Ara2"
      },
      "outputs": [],
      "source": [
        "# Just to say hi. \n",
        "print('Hello, World!')"
      ]
    },
    {
      "cell_type": "code",
      "execution_count": null,
      "metadata": {
        "id": "b_NEaY4dAra3"
      },
      "outputs": [],
      "source": [
        "# declare/define a variable\n",
        "# integer\n",
        "myInt = 7"
      ]
    },
    {
      "cell_type": "code",
      "execution_count": null,
      "metadata": {
        "id": "cWQDpGibAra3"
      },
      "outputs": [],
      "source": [
        "print(myInt)"
      ]
    },
    {
      "cell_type": "code",
      "execution_count": null,
      "metadata": {
        "id": "y00UcDP0Ara3"
      },
      "outputs": [],
      "source": [
        "type(myInt)"
      ]
    },
    {
      "cell_type": "code",
      "execution_count": null,
      "metadata": {
        "id": "qoRtT-cnAra3"
      },
      "outputs": [],
      "source": [
        "myInt + 3"
      ]
    },
    {
      "cell_type": "code",
      "execution_count": null,
      "metadata": {
        "id": "3bhbfVZFAra4"
      },
      "outputs": [],
      "source": [
        "# float\n",
        "myNum = 7.2"
      ]
    },
    {
      "cell_type": "code",
      "execution_count": null,
      "metadata": {
        "id": "pqVXxZBQAra4"
      },
      "outputs": [],
      "source": [
        "type(myNum)"
      ]
    },
    {
      "cell_type": "code",
      "execution_count": null,
      "metadata": {
        "id": "DGiGyQzCAra4"
      },
      "outputs": [],
      "source": [
        "myNum/6"
      ]
    },
    {
      "cell_type": "code",
      "execution_count": null,
      "metadata": {
        "id": "P171rBLnAra4"
      },
      "outputs": [],
      "source": [
        "# string\n",
        "myGreeting = 'Hello, World!'\n",
        "type(myGreeting)"
      ]
    },
    {
      "cell_type": "code",
      "execution_count": null,
      "metadata": {
        "id": "J1y3vvy2Ara4"
      },
      "outputs": [],
      "source": [
        "hi = 'Hello, '\n",
        "name = 'Zhen'"
      ]
    },
    {
      "cell_type": "code",
      "execution_count": null,
      "metadata": {
        "id": "kOQtOaT5Ara5"
      },
      "outputs": [],
      "source": [
        "hi + name + '!'"
      ]
    },
    {
      "cell_type": "code",
      "execution_count": null,
      "metadata": {
        "id": "9-NEFLH3Ara5"
      },
      "outputs": [],
      "source": [
        "# string formatting\n",
        "\n",
        "# The following prints out \"Hello, John!\"\n",
        "myName = \"John\"\n",
        "print(\"Hello, %s!\" % myName)"
      ]
    },
    {
      "cell_type": "code",
      "execution_count": null,
      "metadata": {
        "id": "LffuVAnyAra5"
      },
      "outputs": [],
      "source": [
        "# use list to store data\n",
        "myList = [myName, myNum, myInt]"
      ]
    },
    {
      "cell_type": "code",
      "execution_count": null,
      "metadata": {
        "id": "nyJsJFEyAra5"
      },
      "outputs": [],
      "source": [
        "myList"
      ]
    },
    {
      "cell_type": "code",
      "execution_count": null,
      "metadata": {
        "id": "VS_qoQxWAra5"
      },
      "outputs": [],
      "source": [
        "# retrieve elements from a list\n",
        "# Python counts from 0 \n",
        "myList[0]"
      ]
    },
    {
      "cell_type": "markdown",
      "metadata": {
        "id": "kro7gGTaAra5"
      },
      "source": [
        "## Exercises"
      ]
    },
    {
      "cell_type": "markdown",
      "metadata": {
        "id": "71Ca58n6Ara5"
      },
      "source": [
        "### Make sense of the following code by providing values to myName and myAge"
      ]
    },
    {
      "cell_type": "code",
      "execution_count": null,
      "metadata": {
        "id": "dHMNqzhMAra6"
      },
      "outputs": [],
      "source": [
        "myName = \n",
        "myAge = \n",
        "print(\"%s is %d years old.\" % (myName, myAge))"
      ]
    },
    {
      "cell_type": "markdown",
      "metadata": {
        "id": "tZ4SP9W5Ara6"
      },
      "source": [
        "### 0.1 If conditions"
      ]
    },
    {
      "cell_type": "code",
      "execution_count": null,
      "metadata": {
        "id": "XEHxPhlfAra6"
      },
      "outputs": [],
      "source": [
        "# \"if\" condition involves evaluating true/false of a statement. \n",
        "# To do so, we will first encounter a new type of object called boolean (true/false)\n",
        "# for example\n",
        "1 == 1"
      ]
    },
    {
      "cell_type": "code",
      "execution_count": null,
      "metadata": {
        "id": "ro-X9RBpAra6"
      },
      "outputs": [],
      "source": [
        "# boolean data type\n",
        "type(1==1)"
      ]
    },
    {
      "cell_type": "code",
      "execution_count": null,
      "metadata": {
        "id": "R78zC3v_Ara6"
      },
      "outputs": [],
      "source": [
        "1 > 1"
      ]
    },
    {
      "cell_type": "code",
      "execution_count": null,
      "metadata": {
        "id": "o_jor-ExAra6"
      },
      "outputs": [],
      "source": [
        "eva = 1>1"
      ]
    },
    {
      "cell_type": "code",
      "execution_count": null,
      "metadata": {
        "id": "JMZQdNEhAra6"
      },
      "outputs": [],
      "source": [
        "type(eva)"
      ]
    },
    {
      "cell_type": "code",
      "execution_count": null,
      "metadata": {
        "id": "0NdfRi8AAra6"
      },
      "outputs": [],
      "source": [
        "# There are many other ways to generate boolean type. \n",
        "# For example, \"isinstance\" is a function checking the type of an object. \n",
        "\n",
        "# Checking if 'data' is a string object. \n",
        "isinstance('data',str)"
      ]
    },
    {
      "cell_type": "code",
      "execution_count": null,
      "metadata": {
        "id": "HPUtPQzGAra7"
      },
      "outputs": [],
      "source": [
        "x = 'data'\n",
        "if isinstance(x,str): # evaluate if a condition is met. \n",
        "    print('it is a string!') # action if a condition is met. \n",
        "elif isinstance(x,int):\n",
        "    print('it is an integer!') # action is a condition is not met otherwise.\n",
        "else:\n",
        "    print('it is neither a string nor an integer!')"
      ]
    },
    {
      "cell_type": "markdown",
      "metadata": {
        "id": "7D90_S-gAra7"
      },
      "source": [
        "## Exercises"
      ]
    },
    {
      "cell_type": "markdown",
      "metadata": {
        "id": "e_QXuNcnAra7"
      },
      "source": [
        "### Modify the value of x to make it return 'it is not a string!'"
      ]
    },
    {
      "cell_type": "code",
      "execution_count": null,
      "metadata": {
        "id": "hyg5vjaZAra7"
      },
      "outputs": [],
      "source": [
        "x = \n",
        "if isinstance(x,str):\n",
        "    print('it is a string!')\n",
        "else:\n",
        "    print('it is not a string!')"
      ]
    },
    {
      "cell_type": "markdown",
      "metadata": {
        "id": "8FwdN3PcAra7"
      },
      "source": [
        "### 0.2 For loop"
      ]
    },
    {
      "cell_type": "code",
      "execution_count": null,
      "metadata": {
        "id": "R2CzINyUAra7"
      },
      "outputs": [],
      "source": [
        "# an example\n",
        "myList = []\n",
        "myList.append(1)\n",
        "myList.append(3)\n",
        "myList.append(10)\n",
        "for x in myList:\n",
        "    print(x)"
      ]
    },
    {
      "cell_type": "code",
      "execution_count": null,
      "metadata": {
        "id": "xGJPPtGaAra8"
      },
      "outputs": [],
      "source": [
        "# another example\n",
        "myString = 'business'\n",
        "for letter in myString: # \"for\" can be used with an iterable object such as a list or even a string. \n",
        "    print(letter)"
      ]
    },
    {
      "cell_type": "markdown",
      "metadata": {
        "id": "AvzWtnDnAra8"
      },
      "source": [
        "## Exercises"
      ]
    },
    {
      "cell_type": "markdown",
      "metadata": {
        "id": "MH2W75XoAra8"
      },
      "source": [
        "### Complete the code below to return myListSquared with its elements as myList elements squared "
      ]
    },
    {
      "cell_type": "code",
      "execution_count": null,
      "metadata": {
        "id": "vuX0elxAAra8"
      },
      "outputs": [],
      "source": [
        "# use for loop to return myListSquared as [1,4,9,16]\n",
        "myList = [1,2,3,4]\n",
        "myListSquared = []\n",
        "for x in myList:\n",
        "    y = \n",
        "    myListSquared.append(y)"
      ]
    },
    {
      "cell_type": "code",
      "source": [],
      "metadata": {
        "id": "0L0wKO90BPWZ"
      },
      "execution_count": null,
      "outputs": []
    },
    {
      "cell_type": "markdown",
      "metadata": {
        "id": "bD1TMdVwAra8"
      },
      "source": [
        "## 1. Python as a calculator and visualiser"
      ]
    },
    {
      "cell_type": "code",
      "execution_count": null,
      "metadata": {
        "id": "Eql-E8rlAra8"
      },
      "outputs": [],
      "source": [
        "1+1"
      ]
    },
    {
      "cell_type": "code",
      "execution_count": null,
      "metadata": {
        "id": "CPS3bqMnAra8"
      },
      "outputs": [],
      "source": [
        "16-9"
      ]
    },
    {
      "cell_type": "code",
      "execution_count": null,
      "metadata": {
        "id": "7oA97-aLAra8"
      },
      "outputs": [],
      "source": [
        "3*4"
      ]
    },
    {
      "cell_type": "code",
      "execution_count": null,
      "metadata": {
        "id": "E8cH72Q-Ara9"
      },
      "outputs": [],
      "source": [
        "45/7"
      ]
    },
    {
      "cell_type": "code",
      "execution_count": null,
      "metadata": {
        "id": "ysFDebGcAra9"
      },
      "outputs": [],
      "source": [
        "3**2"
      ]
    },
    {
      "cell_type": "code",
      "execution_count": null,
      "metadata": {
        "id": "AIe5kD86Ara9"
      },
      "outputs": [],
      "source": [
        "# create a sequence of real numbers\n",
        "x = np.arange(-3.5,3.5,0.1)\n",
        "# create another sequence with a function\n",
        "y = np.sin(x)"
      ]
    },
    {
      "cell_type": "code",
      "execution_count": null,
      "metadata": {
        "id": "7xFMFecbAra9"
      },
      "outputs": [],
      "source": [
        "# Plot the function\n",
        "plt.plot(x,y,marker='x',color='blue')"
      ]
    },
    {
      "cell_type": "markdown",
      "metadata": {
        "id": "xldMonlfAra9"
      },
      "source": [
        "## Exercises"
      ]
    },
    {
      "cell_type": "markdown",
      "metadata": {
        "id": "-M_Km6a9Ara9"
      },
      "source": [
        "### Plot the above figure again with marker='o' and color='red'"
      ]
    },
    {
      "cell_type": "code",
      "execution_count": null,
      "metadata": {
        "id": "9DhYqDUPAra9"
      },
      "outputs": [],
      "source": []
    },
    {
      "cell_type": "markdown",
      "metadata": {
        "id": "34MYw34NAra9"
      },
      "source": [
        "## 2. Python as excel"
      ]
    },
    {
      "cell_type": "code",
      "execution_count": null,
      "metadata": {
        "id": "UbApBbEpAra9"
      },
      "outputs": [],
      "source": [
        "# create an empty list \n",
        "myList = []\n",
        "# populate the list with the alphabets from a to z\n",
        "for i in range(ord('a'),ord('z')+1):\n",
        "    myList.append(chr(i))"
      ]
    },
    {
      "cell_type": "code",
      "execution_count": null,
      "metadata": {
        "id": "qNdxCydIAra-"
      },
      "outputs": [],
      "source": [
        "myList"
      ]
    },
    {
      "cell_type": "code",
      "execution_count": null,
      "metadata": {
        "id": "_2-2DdOAAra-"
      },
      "outputs": [],
      "source": [
        "# create an empty dictionary\n",
        "myDict = {}\n",
        "# populate the dictionary with keys and values\n",
        "for i in range(len(myList)):\n",
        "    myDict[i] = myList[i]"
      ]
    },
    {
      "cell_type": "code",
      "execution_count": null,
      "metadata": {
        "id": "Ty1fo7bDAra-"
      },
      "outputs": [],
      "source": [
        "myDict"
      ]
    },
    {
      "cell_type": "code",
      "execution_count": null,
      "metadata": {
        "id": "fXzGXcCmAra-"
      },
      "outputs": [],
      "source": [
        "# create table content with dictionary\n",
        "myDict = {'Name': [\"Anna\", \"Betty\", \"Charles\", \"David\"],\n",
        "'Location' : [\"New York\", \"Paris\", \"Berlin\", \"London\"],\n",
        "'Age' : [24, 13, 53, 33]\n",
        "}"
      ]
    },
    {
      "cell_type": "code",
      "execution_count": null,
      "metadata": {
        "id": "MMGa3mKAAra-"
      },
      "outputs": [],
      "source": [
        "myDF = pd.DataFrame(myDict)"
      ]
    },
    {
      "cell_type": "code",
      "execution_count": null,
      "metadata": {
        "id": "ts9tZxTGAra-"
      },
      "outputs": [],
      "source": [
        "myDF"
      ]
    },
    {
      "cell_type": "code",
      "execution_count": null,
      "metadata": {
        "id": "og0JlRX3Ara-"
      },
      "outputs": [],
      "source": [
        "# return the content at column 0 and row 0\n",
        "myDF.iloc[0,0]"
      ]
    },
    {
      "cell_type": "code",
      "execution_count": null,
      "metadata": {
        "id": "w_EkuxRLAra-"
      },
      "outputs": [],
      "source": [
        "# alternatively\n",
        "myDF.loc[0,'Name']"
      ]
    },
    {
      "cell_type": "code",
      "execution_count": null,
      "metadata": {
        "id": "UQ8fOfhDAra_"
      },
      "outputs": [],
      "source": [
        "# subset dataframe by row\n",
        "myDF[myDF['Age']>20]"
      ]
    },
    {
      "cell_type": "code",
      "execution_count": null,
      "metadata": {
        "id": "O63aq9RJAra_"
      },
      "outputs": [],
      "source": [
        "# subset dataframe by column\n",
        "myDF[['Age','Location']]"
      ]
    },
    {
      "cell_type": "code",
      "execution_count": null,
      "metadata": {
        "id": "TvZRwz6-Ara_"
      },
      "outputs": [],
      "source": [
        "# define a function\n",
        "def mySquareFun(x):\n",
        "    y = x**2\n",
        "    return y"
      ]
    },
    {
      "cell_type": "code",
      "execution_count": null,
      "metadata": {
        "id": "7WGqS_hlAra_"
      },
      "outputs": [],
      "source": [
        "myDF['AgeSquare'] = myDF['Age'].apply(mySquareFun)"
      ]
    },
    {
      "cell_type": "code",
      "execution_count": null,
      "metadata": {
        "id": "UGmWXtTxAra_"
      },
      "outputs": [],
      "source": [
        "myDF"
      ]
    },
    {
      "cell_type": "code",
      "execution_count": null,
      "metadata": {
        "id": "d_GmE8ZGAra_"
      },
      "outputs": [],
      "source": [
        "# alternatively using lambda function\n",
        "myDF['AgeSquare2'] = myDF['Age'].apply(lambda x:x**2)"
      ]
    },
    {
      "cell_type": "code",
      "execution_count": null,
      "metadata": {
        "id": "ZdjNIO9DAra_"
      },
      "outputs": [],
      "source": [
        "myDF"
      ]
    },
    {
      "cell_type": "markdown",
      "metadata": {
        "id": "GBN1OEXJAra_"
      },
      "source": [
        "## 3. An example with twitter data"
      ]
    },
    {
      "cell_type": "code",
      "execution_count": null,
      "metadata": {
        "id": "DqdN4VHSAra_"
      },
      "outputs": [],
      "source": [
        "# First upload the file to the Colab runtime. \n",
        "\n",
        "# the original data can be found at https://data.world/socialmediadata/twitter-us-airline-sentiment\n",
        "myFilePath = \"Airline-Sentiment.csv\""
      ]
    },
    {
      "cell_type": "code",
      "execution_count": null,
      "metadata": {
        "id": "K-l5rA5PArbA"
      },
      "outputs": [],
      "source": [
        "# read csv directly as a dataframe\n",
        "myData = pd.read_csv(myFilePath,encoding='latin1')"
      ]
    },
    {
      "cell_type": "code",
      "execution_count": null,
      "metadata": {
        "id": "OdS4SQnXArbA"
      },
      "outputs": [],
      "source": [
        "# check the first 10 rows of the dataframe\n",
        "myData.head(10)"
      ]
    },
    {
      "cell_type": "code",
      "execution_count": null,
      "metadata": {
        "id": "1XluKcsWArbA"
      },
      "outputs": [],
      "source": [
        "# check the types of each variable/column\n",
        "# pandas use 'object' to mean 'string'\n",
        "myData.dtypes"
      ]
    },
    {
      "cell_type": "code",
      "execution_count": null,
      "metadata": {
        "id": "Cp0jcwymArbA"
      },
      "outputs": [],
      "source": [
        "# summary statistics of a categorical variable\n",
        "myData.airline_sentiment.describe()"
      ]
    },
    {
      "cell_type": "code",
      "execution_count": null,
      "metadata": {
        "id": "1TUFS3viArbA"
      },
      "outputs": [],
      "source": [
        "# summary statistics of a continuous variable\n",
        "myData.retweet_count.describe()"
      ]
    },
    {
      "cell_type": "code",
      "execution_count": null,
      "metadata": {
        "id": "30n4BMwkArbA"
      },
      "outputs": [],
      "source": [
        "# bar plot of airlines\n",
        "myData.airline.value_counts().plot(kind='bar')"
      ]
    },
    {
      "cell_type": "code",
      "execution_count": null,
      "metadata": {
        "id": "rQ9qH529ArbA"
      },
      "outputs": [],
      "source": [
        "# bar plot of the sentiment categories\n",
        "myData.airline_sentiment.value_counts().plot(kind='bar')"
      ]
    },
    {
      "cell_type": "markdown",
      "metadata": {
        "id": "5BgOXwm2ArbA"
      },
      "source": [
        "## Exercises"
      ]
    },
    {
      "cell_type": "markdown",
      "metadata": {
        "id": "kuv-OsauArbB"
      },
      "source": [
        "### Plot the frequency of each sentiment category for Southwest"
      ]
    },
    {
      "cell_type": "code",
      "execution_count": null,
      "metadata": {
        "id": "_jYtXy6RArbB"
      },
      "outputs": [],
      "source": []
    },
    {
      "cell_type": "markdown",
      "metadata": {
        "id": "UABgUaJoArbB"
      },
      "source": [
        "### Which airline has the lowest proportion of negative tweets? "
      ]
    },
    {
      "cell_type": "code",
      "execution_count": null,
      "metadata": {
        "id": "mNPaCK2WArbB"
      },
      "outputs": [],
      "source": []
    },
    {
      "cell_type": "markdown",
      "metadata": {
        "id": "Zy_t0RbLArbB"
      },
      "source": [
        "## 4. Basic data manipulation"
      ]
    },
    {
      "cell_type": "markdown",
      "metadata": {
        "id": "BuIxIvlAArbB"
      },
      "source": [
        "### 4.0 Lists in depth"
      ]
    },
    {
      "cell_type": "code",
      "execution_count": null,
      "metadata": {
        "id": "garHv3mRArbB"
      },
      "outputs": [],
      "source": [
        "# Use the function \"range\" to populate numbers quickly\n",
        "# If given one parameter, it means the length of the sequence and it will start counting from 0 by default.\n",
        "\n",
        "L = list(range(10))"
      ]
    },
    {
      "cell_type": "code",
      "execution_count": null,
      "metadata": {
        "id": "Gy_k4Z3tArbB"
      },
      "outputs": [],
      "source": [
        "# take a look\n",
        "L"
      ]
    },
    {
      "cell_type": "code",
      "execution_count": null,
      "metadata": {
        "id": "gJYm6Zq8ArbB"
      },
      "outputs": [],
      "source": [
        "# check the type\n",
        "type(L)"
      ]
    },
    {
      "cell_type": "code",
      "execution_count": null,
      "metadata": {
        "id": "krvsaRuNArbB"
      },
      "outputs": [],
      "source": [
        "# Alternatively you can do\n",
        "# We use a 'mini' for loop here\n",
        "\n",
        "L2 = [x for x in range(10)]"
      ]
    },
    {
      "cell_type": "code",
      "execution_count": null,
      "metadata": {
        "id": "JnSBp_X7ArbC"
      },
      "outputs": [],
      "source": [
        "# take a look\n",
        "L2"
      ]
    },
    {
      "cell_type": "code",
      "execution_count": null,
      "metadata": {
        "id": "EQVJ-I9DArbC"
      },
      "outputs": [],
      "source": [
        "# If given two parameters, the first means where to start and \n",
        "# the second means where it will stop (with one step earlier!).\n",
        "\n",
        "L3 = list(range(1,11))"
      ]
    },
    {
      "cell_type": "code",
      "execution_count": null,
      "metadata": {
        "id": "tMTYHvU2ArbC"
      },
      "outputs": [],
      "source": [
        "# take a look\n",
        "L3"
      ]
    },
    {
      "cell_type": "code",
      "execution_count": null,
      "metadata": {
        "id": "NjIjM0UjArbC"
      },
      "outputs": [],
      "source": [
        "# If given three parameters, the third one specifies the step size. \n",
        "\n",
        "L4 = list(range(1,20,2))  # You can specify the step size"
      ]
    },
    {
      "cell_type": "code",
      "execution_count": null,
      "metadata": {
        "id": "zk1k6mnuArbC"
      },
      "outputs": [],
      "source": [
        "# take a look\n",
        "L4"
      ]
    },
    {
      "cell_type": "markdown",
      "metadata": {
        "id": "F0QYvmxuArbC"
      },
      "source": [
        "## Exercises"
      ]
    },
    {
      "cell_type": "markdown",
      "metadata": {
        "id": "fCBIuClwArbC"
      },
      "source": [
        "### Create a list with integers from 3 to 30 with step size 3."
      ]
    },
    {
      "cell_type": "code",
      "execution_count": null,
      "metadata": {
        "id": "wxTshhTMArbC"
      },
      "outputs": [],
      "source": []
    },
    {
      "cell_type": "code",
      "execution_count": null,
      "metadata": {
        "id": "25sJMJTYArbC"
      },
      "outputs": [],
      "source": [
        "# below is an example for understanding list indexing\n",
        "\n",
        "myIndex = ['first','second','third','fourth']"
      ]
    },
    {
      "cell_type": "code",
      "execution_count": null,
      "metadata": {
        "id": "1vWuFMZIArbD"
      },
      "outputs": [],
      "source": [
        "# the first element\n",
        "\n",
        "myIndex[0]"
      ]
    },
    {
      "cell_type": "code",
      "execution_count": null,
      "metadata": {
        "id": "Pi2dT6ncArbD"
      },
      "outputs": [],
      "source": [
        "# retrieve the first two elements\n",
        "\n",
        "myIndex[:2]"
      ]
    },
    {
      "cell_type": "code",
      "execution_count": null,
      "metadata": {
        "id": "WBbeeOhfArbD"
      },
      "outputs": [],
      "source": [
        "# retrieve the last element\n",
        "# this shows the convenience of counting from 0\n",
        "\n",
        "myIndex[-1]"
      ]
    },
    {
      "cell_type": "markdown",
      "metadata": {
        "id": "7bv1PNXoArbD"
      },
      "source": [
        "## Exercises"
      ]
    },
    {
      "cell_type": "markdown",
      "metadata": {
        "id": "Mvldl7qJArbD"
      },
      "source": [
        "### Retrieve the third element of myIndex using both positive and negative index"
      ]
    },
    {
      "cell_type": "code",
      "execution_count": null,
      "metadata": {
        "id": "6gPYYTFcArbD"
      },
      "outputs": [],
      "source": []
    },
    {
      "cell_type": "markdown",
      "metadata": {
        "id": "7Mb-OWOaArbD"
      },
      "source": [
        "### 4.1 Pandas in depth"
      ]
    },
    {
      "cell_type": "code",
      "execution_count": null,
      "metadata": {
        "id": "HUmzkhBkArbD"
      },
      "outputs": [],
      "source": [
        "# we can convert a list into a pandas series\n",
        "\n",
        "mySeries = pd.Series(['a','b','c','d','e'])"
      ]
    },
    {
      "cell_type": "code",
      "execution_count": null,
      "metadata": {
        "id": "DagXlK1bArbD"
      },
      "outputs": [],
      "source": [
        "# take a look\n",
        "# note that there are two columns. The frist column is the index and by default it is a sequence of integers. \n",
        "# The second column is the list we used. \n",
        "\n",
        "mySeries"
      ]
    },
    {
      "cell_type": "code",
      "execution_count": null,
      "metadata": {
        "id": "5qRks_5qArbD"
      },
      "outputs": [],
      "source": [
        "# check its index. \n",
        "\n",
        "mySeries.index"
      ]
    },
    {
      "cell_type": "code",
      "execution_count": null,
      "metadata": {
        "id": "dDOPXJJdArbE"
      },
      "outputs": [],
      "source": [
        "# check the first element. \n",
        "\n",
        "mySeries[0]"
      ]
    },
    {
      "cell_type": "code",
      "execution_count": null,
      "metadata": {
        "id": "lexMdv60ArbE"
      },
      "outputs": [],
      "source": [
        "# Now we create another series with integers as values and alphabets as index\n",
        "\n",
        "mySeries2 = pd.Series(range(5),index=['a','b','c','d','e'])"
      ]
    },
    {
      "cell_type": "code",
      "execution_count": null,
      "metadata": {
        "id": "xNb8bGcaArbE"
      },
      "outputs": [],
      "source": [
        "# take a look\n",
        "# note that now data type \"dtype\" becomes integers. \n",
        "\n",
        "mySeries2"
      ]
    },
    {
      "cell_type": "code",
      "execution_count": null,
      "metadata": {
        "id": "hBYser9_ArbE"
      },
      "outputs": [],
      "source": [
        "# check its index\n",
        "\n",
        "mySeries2.index"
      ]
    },
    {
      "cell_type": "code",
      "execution_count": null,
      "metadata": {
        "id": "TgvgPGmuArbE"
      },
      "outputs": [],
      "source": [
        "# You can still use position number to retrieve the value\n",
        "\n",
        "mySeries2[0]"
      ]
    },
    {
      "cell_type": "code",
      "execution_count": null,
      "metadata": {
        "id": "L47Ral9pArbE"
      },
      "outputs": [],
      "source": [
        "# But you can also use the index you defined\n",
        "\n",
        "mySeries2['a']"
      ]
    },
    {
      "cell_type": "markdown",
      "metadata": {
        "id": "nN_EdcyiArbE"
      },
      "source": [
        "## Exercises"
      ]
    },
    {
      "cell_type": "markdown",
      "metadata": {
        "id": "6fq6ewFZArbE"
      },
      "source": [
        "### Create a Pandas series with both its values and index as strings. "
      ]
    },
    {
      "cell_type": "code",
      "execution_count": null,
      "metadata": {
        "id": "tJ8eqnsBArbE"
      },
      "outputs": [],
      "source": []
    },
    {
      "cell_type": "code",
      "execution_count": null,
      "metadata": {
        "id": "B4-xR69ZArbE"
      },
      "outputs": [],
      "source": [
        "# Manually create a Pandas dataframe. \n",
        "# first we create two lists to store names and ages. \n",
        "\n",
        "myName = ['Ace','Bettina','Chris','David']\n",
        "myAge = [22,21,21,23]"
      ]
    },
    {
      "cell_type": "code",
      "execution_count": null,
      "metadata": {
        "id": "sumeDH7dArbF"
      },
      "outputs": [],
      "source": [
        "# Use pd.DataFrame to create a DataFrame\n",
        "# note the use of curly brackets (which creates an object called dictionary). \n",
        "# note that the two strings in the curly brackets are the respective column names. \n",
        "\n",
        "myDF = pd.DataFrame({'Name':myName,'Age':myAge})"
      ]
    },
    {
      "cell_type": "code",
      "execution_count": null,
      "metadata": {
        "id": "5lMTdsb1ArbF"
      },
      "outputs": [],
      "source": [
        "# take a look at this DataFrame\n",
        "\n",
        "myDF"
      ]
    },
    {
      "cell_type": "code",
      "execution_count": null,
      "metadata": {
        "id": "tylsASXKArbF"
      },
      "outputs": [],
      "source": [
        "# check the shape of the DataFrame\n",
        "# it has 4 rows and 2 columns. \n",
        "\n",
        "myDF.shape"
      ]
    },
    {
      "cell_type": "code",
      "execution_count": null,
      "metadata": {
        "id": "9xGFK4D8ArbF"
      },
      "outputs": [],
      "source": [
        "# check its column names\n",
        "\n",
        "myDF.columns"
      ]
    },
    {
      "cell_type": "code",
      "execution_count": null,
      "metadata": {
        "id": "zaoaFI51ArbF"
      },
      "outputs": [],
      "source": [
        "# check its index\n",
        "\n",
        "myDF.index"
      ]
    },
    {
      "cell_type": "code",
      "execution_count": null,
      "metadata": {
        "id": "AhHc3TXMArbF"
      },
      "outputs": [],
      "source": [
        "# similar to Series, you can also customise the index\n",
        "\n",
        "myDF = pd.DataFrame({'Name':myName,'Age':myAge}, index=['a','b','c','d'])"
      ]
    },
    {
      "cell_type": "code",
      "execution_count": null,
      "metadata": {
        "id": "eK3qvNhMArbF"
      },
      "outputs": [],
      "source": [
        "# take a look\n",
        "\n",
        "myDF"
      ]
    },
    {
      "cell_type": "markdown",
      "metadata": {
        "id": "4FLlgi0jArbF"
      },
      "source": [
        "## Exercises"
      ]
    },
    {
      "cell_type": "markdown",
      "metadata": {
        "id": "5nUtwA9bArbF"
      },
      "source": [
        "### Create a DataFrame like the above table. Note that the DataFrame has 2 rows and 3 columns. 'Florida' and 'Illinois' are the index. "
      ]
    },
    {
      "cell_type": "markdown",
      "source": [
        "![table.jpg](data:image/jpeg;base64,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)"
      ],
      "metadata": {
        "id": "1HdquLydDAem"
      }
    },
    {
      "cell_type": "code",
      "execution_count": null,
      "metadata": {
        "id": "SpiaJ5HgArbG"
      },
      "outputs": [],
      "source": []
    },
    {
      "cell_type": "code",
      "execution_count": null,
      "metadata": {
        "id": "JzkW2IhZArbG"
      },
      "outputs": [],
      "source": [
        "# Below is an example for understanding dataframe indexing\n",
        "\n",
        "myDF = pd.DataFrame({'Name':myName,'Age':myAge}, index=['a','b','c','d'])\n",
        "myDF"
      ]
    },
    {
      "cell_type": "code",
      "execution_count": null,
      "metadata": {
        "id": "QZFQVgdJArbG"
      },
      "outputs": [],
      "source": [
        "# You can use the function iloc to put the index number to retrieve the element \n",
        "# The following takes the element at the first row and the first column. Again, Python counts from 0!\n",
        "\n",
        "myDF.iloc[0,0]"
      ]
    },
    {
      "cell_type": "code",
      "execution_count": null,
      "metadata": {
        "id": "JR5Hmr_jArbG"
      },
      "outputs": [],
      "source": [
        "# You can also use the function loc to call the index and column names. \n",
        "\n",
        "myDF.loc['a','Name']"
      ]
    },
    {
      "cell_type": "markdown",
      "metadata": {
        "id": "_cdEo2ymArbG"
      },
      "source": [
        "## Exercises"
      ]
    },
    {
      "cell_type": "markdown",
      "metadata": {
        "id": "W_HVVpvbArbG"
      },
      "source": [
        "### Use both iloc and loc to get David's age. "
      ]
    },
    {
      "cell_type": "code",
      "execution_count": null,
      "metadata": {
        "id": "SOywunELArbG"
      },
      "outputs": [],
      "source": []
    },
    {
      "cell_type": "code",
      "execution_count": null,
      "metadata": {
        "id": "xU0SJB0eArbG"
      },
      "outputs": [],
      "source": [
        "# Now we make a slightly bigger DataFrame/spreadsheet\n",
        "\n",
        "myName = ['Ace','Bettina','Chris','David','Alex','Boris','Cody','Dan']\n",
        "myAge = [22,21,21,23,27,18,19,30]\n",
        "myCity = ['London','London','Liverpool','Birmingham','Manchester','Liverpool','London','Leeds']\n",
        "\n",
        "myDF = pd.DataFrame({'Name':myName,'Age':myAge,'City':myCity})\n",
        "myDF"
      ]
    },
    {
      "cell_type": "code",
      "execution_count": null,
      "metadata": {
        "id": "VdNVBd7VArbG"
      },
      "outputs": [],
      "source": [
        "# summarise the information of the column 'Age'\n",
        "\n",
        "myDF['Age'].describe()"
      ]
    },
    {
      "cell_type": "code",
      "execution_count": null,
      "metadata": {
        "id": "bhOD2aBgArbH"
      },
      "outputs": [],
      "source": [
        "# summarise the information of the column 'City'\n",
        "\n",
        "myDF['City'].describe()"
      ]
    },
    {
      "cell_type": "code",
      "execution_count": null,
      "metadata": {
        "id": "NKY00qWDArbH"
      },
      "outputs": [],
      "source": [
        "# show all unique strings of the column 'City'\n",
        "\n",
        "myDF['City'].unique()"
      ]
    },
    {
      "cell_type": "code",
      "execution_count": null,
      "metadata": {
        "id": "JXMTup8AArbH"
      },
      "outputs": [],
      "source": [
        "# Subset a dataframe by column\n",
        "# select one column 'Name'\n",
        "\n",
        "myDF1 = myDF.loc[:,'Name']"
      ]
    },
    {
      "cell_type": "code",
      "execution_count": null,
      "metadata": {
        "id": "lsUyUa9_ArbH"
      },
      "outputs": [],
      "source": [
        "# take a look\n",
        "\n",
        "myDF1"
      ]
    },
    {
      "cell_type": "code",
      "execution_count": null,
      "metadata": {
        "id": "Qh0wg26dArbH"
      },
      "outputs": [],
      "source": [
        "# because it is a single column, it is in fact a Pandas series\n",
        "\n",
        "type(myDF1)"
      ]
    },
    {
      "cell_type": "code",
      "execution_count": null,
      "metadata": {
        "id": "5OaQ2LWDArbH"
      },
      "outputs": [],
      "source": [
        "# select two columns 'Name' and 'Age'\n",
        "\n",
        "myDF2 = myDF.loc[:,{'Name','Age'}]"
      ]
    },
    {
      "cell_type": "code",
      "execution_count": null,
      "metadata": {
        "id": "z7QYcSy9ArbH"
      },
      "outputs": [],
      "source": [
        "# take a look\n",
        "\n",
        "myDF2"
      ]
    },
    {
      "cell_type": "code",
      "execution_count": null,
      "metadata": {
        "id": "LLI77d4HArbH"
      },
      "outputs": [],
      "source": [
        "# because it has more than one column, it is a Pandas DataFrame\n",
        "\n",
        "type(myDF2)"
      ]
    },
    {
      "cell_type": "markdown",
      "metadata": {
        "id": "d6MbJRiZArbI"
      },
      "source": [
        "## Exercises"
      ]
    },
    {
      "cell_type": "markdown",
      "metadata": {
        "id": "HMzAgEodArbI"
      },
      "source": [
        "### Make a new DataFrame with the columns 'Name' and 'City' from myDF"
      ]
    },
    {
      "cell_type": "code",
      "execution_count": null,
      "metadata": {
        "id": "DWBCyZD5ArbI"
      },
      "outputs": [],
      "source": []
    },
    {
      "cell_type": "code",
      "execution_count": null,
      "metadata": {
        "id": "rt7v_IreArbI"
      },
      "outputs": [],
      "source": [
        "# Subset a dataframe by row\n",
        "# keep the rows with 'Age' greater than or equal to 20. \n",
        "\n",
        "myDF3 = myDF[myDF['Age']>=20]"
      ]
    },
    {
      "cell_type": "code",
      "execution_count": null,
      "metadata": {
        "id": "_uxvIS8RArbI"
      },
      "outputs": [],
      "source": [
        "# take a look\n",
        "# note that Boris and Cody are missing\n",
        "\n",
        "myDF3"
      ]
    },
    {
      "cell_type": "code",
      "execution_count": null,
      "metadata": {
        "id": "ywCR4wtLArbI"
      },
      "outputs": [],
      "source": [
        "# keep the rows with 'City' as 'London'\n",
        "# note the use of double equation == to evaluate if equivalent\n",
        "# also note that 'London' is a string\n",
        "\n",
        "myDF4 = myDF[myDF['City']=='London']"
      ]
    },
    {
      "cell_type": "code",
      "execution_count": null,
      "metadata": {
        "id": "kRqCTVi2ArbI"
      },
      "outputs": [],
      "source": [
        "# take a look\n",
        "\n",
        "myDF4"
      ]
    },
    {
      "cell_type": "code",
      "execution_count": null,
      "metadata": {
        "id": "Quyph9s0ArbL"
      },
      "outputs": [],
      "source": [
        "# multiple conditions\n",
        "# keep the rows with 'Age' greater than 20 and 'City' as 'London'\n",
        "\n",
        "myDF5 = myDF[(myDF['Age']>20) & (myDF['City']=='London')]"
      ]
    },
    {
      "cell_type": "code",
      "execution_count": null,
      "metadata": {
        "id": "ZHEUAzN1ArbM"
      },
      "outputs": [],
      "source": [
        "# take a look\n",
        "\n",
        "myDF5"
      ]
    },
    {
      "cell_type": "markdown",
      "metadata": {
        "id": "HkgimNWKArbM"
      },
      "source": [
        "## Exercises"
      ]
    },
    {
      "cell_type": "markdown",
      "metadata": {
        "id": "JiboeRgSArbM"
      },
      "source": [
        "### make a new DataFrame to keep the rows with 'Age' less than 23 from myDF"
      ]
    },
    {
      "cell_type": "code",
      "execution_count": null,
      "metadata": {
        "id": "COuF7QkWArbM"
      },
      "outputs": [],
      "source": []
    },
    {
      "cell_type": "markdown",
      "metadata": {
        "id": "F9vYEf7TArbM"
      },
      "source": [
        "### make a new DataFrame to keep the rows with 'City' as 'Liverpool'"
      ]
    },
    {
      "cell_type": "code",
      "execution_count": null,
      "metadata": {
        "id": "A2AvL13WArbM"
      },
      "outputs": [],
      "source": []
    },
    {
      "cell_type": "code",
      "execution_count": null,
      "metadata": {
        "id": "oO5LHNOSArbM"
      },
      "outputs": [],
      "source": [
        "# Let's revisit the airline sentiment data\n",
        "myFilePath = \"Airline-Sentiment.csv\""
      ]
    },
    {
      "cell_type": "code",
      "execution_count": null,
      "metadata": {
        "id": "FEt0TFOsArbM"
      },
      "outputs": [],
      "source": [
        "# read csv directly as a dataframe\n",
        "myData = pd.read_csv(myFilePath,encoding='latin1')"
      ]
    },
    {
      "cell_type": "code",
      "execution_count": null,
      "metadata": {
        "id": "3IIIC_EcArbM"
      },
      "outputs": [],
      "source": [
        "myData.head()"
      ]
    },
    {
      "cell_type": "code",
      "execution_count": null,
      "metadata": {
        "id": "j5oIdfiuArbM"
      },
      "outputs": [],
      "source": [
        "# Make a new dataframe by keeping rows with 'airline' as 'Virgin America'\n",
        "myData2 = myData[myData['airline']=='Virgin America']"
      ]
    },
    {
      "cell_type": "code",
      "execution_count": null,
      "metadata": {
        "id": "ltBsh_SuArbM"
      },
      "outputs": [],
      "source": [
        "# Take a look\n",
        "myData2"
      ]
    },
    {
      "cell_type": "code",
      "execution_count": null,
      "metadata": {
        "id": "DjfPE2xlArbN"
      },
      "outputs": [],
      "source": [
        "# Make a new dataframe by keeping rows with 'airline' as 'Virgin America' and 'retweet_count' >= 1\n",
        "myData3 = myData[(myData['airline']=='Virgin America') & (myData['retweet_count']>=1)]"
      ]
    },
    {
      "cell_type": "code",
      "execution_count": null,
      "metadata": {
        "id": "s7jD1APNArbN"
      },
      "outputs": [],
      "source": [
        "# Take a look\n",
        "myData3"
      ]
    },
    {
      "cell_type": "markdown",
      "metadata": {
        "id": "l1HOdS-vArbN"
      },
      "source": [
        "## Exercises"
      ]
    },
    {
      "cell_type": "markdown",
      "metadata": {
        "id": "EvJurzcGArbN"
      },
      "source": [
        "### Make a new DataFrame to keep the rows with 'airline' as 'United' and 'retweet_count' > 1"
      ]
    },
    {
      "cell_type": "code",
      "execution_count": null,
      "metadata": {
        "id": "hTXx5hkIArbN"
      },
      "outputs": [],
      "source": []
    }
  ],
  "metadata": {
    "kernelspec": {
      "display_name": "Python 3",
      "language": "python",
      "name": "python3"
    },
    "language_info": {
      "codemirror_mode": {
        "name": "ipython",
        "version": 3
      },
      "file_extension": ".py",
      "mimetype": "text/x-python",
      "name": "python",
      "nbconvert_exporter": "python",
      "pygments_lexer": "ipython3",
      "version": "3.8.5"
    },
    "colab": {
      "provenance": []
    }
  },
  "nbformat": 4,
  "nbformat_minor": 0
}